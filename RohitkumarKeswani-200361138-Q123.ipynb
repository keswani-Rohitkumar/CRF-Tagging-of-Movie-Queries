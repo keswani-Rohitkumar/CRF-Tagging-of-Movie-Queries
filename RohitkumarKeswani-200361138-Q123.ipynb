{
 "cells": [
  {
   "cell_type": "markdown",
   "metadata": {},
   "source": [
    "# Assignment 2: CRF sequence tagging for Move Queries"
   ]
  },
  {
   "cell_type": "code",
   "execution_count": 1,
   "metadata": {},
   "outputs": [],
   "source": [
    "import os\n",
    "import sys\n",
    "\n",
    "from copy import deepcopy\n",
    "from collections import Counter\n",
    "from nltk.tag import CRFTagger\n",
    "\n",
    "from sklearn.metrics import confusion_matrix\n",
    "from sklearn.metrics import precision_recall_fscore_support\n",
    "from sklearn.metrics import classification_report\n",
    "from sklearn.model_selection import train_test_split\n",
    "\n",
    "from matplotlib import pyplot as plt\n",
    "import numpy as np\n",
    "\n",
    "import re\n",
    "import unicodedata"
   ]
  },
  {
   "cell_type": "markdown",
   "metadata": {},
   "source": [
    "In tha above cell all the necessary libraries are imported and I have imported test_train_split from sklearn.model_selection for splitting the training data into 80% training data and remaining 20% data as Development data."
   ]
  },
  {
   "cell_type": "code",
   "execution_count": 2,
   "metadata": {},
   "outputs": [],
   "source": [
    "def get_raw_data_from_bio_file(fpath):\n",
    "    \"\"\"A simple function to read in from a one-word-per-line BIO\n",
    "    (Beginning, Inside, Outside) tagged corpus, tab separated\n",
    "    and each example sentence/text separated with a blank line.\n",
    "    The data is already tokenized in a simple way.\n",
    "    e.g.:\n",
    "    \n",
    "    O\ta\n",
    "    O\tgreat\n",
    "    O\tlunch\n",
    "    O\tspot\n",
    "    O\tbut\n",
    "    B-Hours\topen\n",
    "    I-Hours\ttill\n",
    "    I-Hours\t2\n",
    "    I-Hours\ta\n",
    "    I-Hours\tm\n",
    "    B-Restaurant_Name\tpassims\n",
    "    I-Restaurant_Name\tkitchen\n",
    "    \n",
    "    returns a list of lists of tuples of (word, tag) tuples\n",
    "    \"\"\"\n",
    "    f = open(fpath)\n",
    "    data = []  # the data, a list of lists of (word, tag) tuples\n",
    "    current_sent = []  # data for current sentence/example\n",
    "    for line in f:\n",
    "        if line == \"\\n\":  # each instance has a blank line separating it from next one\n",
    "            # solution\n",
    "            data.append(current_sent)\n",
    "            current_sent = []\n",
    "            continue\n",
    "        line_data = line.strip(\"\\n\").split(\"\\t\")\n",
    "        current_sent.append((line_data[1], line_data[0]))\n",
    "    f.close()\n",
    "    return data"
   ]
  },
  {
   "cell_type": "code",
   "execution_count": 3,
   "metadata": {},
   "outputs": [],
   "source": [
    "raw_training_data = get_raw_data_from_bio_file(\"engtrain.bio.txt\") "
   ]
  },
  {
   "cell_type": "markdown",
   "metadata": {},
   "source": [
    "Here we have loaded the engtrain.bio.txt data in raw_training_data."
   ]
  },
  {
   "cell_type": "markdown",
   "metadata": {},
   "source": [
    "# ANSWER 1"
   ]
  },
  {
   "cell_type": "code",
   "execution_count": 4,
   "metadata": {},
   "outputs": [],
   "source": [
    "train_data, development_data = train_test_split(raw_training_data, train_size=0.8, shuffle = False)"
   ]
  },
  {
   "cell_type": "markdown",
   "metadata": {},
   "source": [
    "Here we have splitted the data into 80% training data and 20% development data with the help of sklearn and shuffle value is passed as false."
   ]
  },
  {
   "cell_type": "code",
   "execution_count": 5,
   "metadata": {},
   "outputs": [
    {
     "name": "stdout",
     "output_type": "stream",
     "text": [
      "[('what', 'O'), ('movies', 'O'), ('star', 'O'), ('bruce', 'B-ACTOR'), ('willis', 'I-ACTOR')]\n"
     ]
    }
   ],
   "source": [
    "# have a look at the first example\n",
    "print(raw_training_data[0])"
   ]
  },
  {
   "cell_type": "code",
   "execution_count": 6,
   "metadata": {},
   "outputs": [
    {
     "name": "stdout",
     "output_type": "stream",
     "text": [
      "9775 instances\n",
      "99491 words\n"
     ]
    }
   ],
   "source": [
    "print(len(raw_training_data), \"instances\")\n",
    "print(sum([len(sent) for sent in raw_training_data]), \"words\")"
   ]
  },
  {
   "cell_type": "markdown",
   "metadata": {},
   "source": [
    "The length of training data is calculated with the len method and is 9775 instances and 99491 words in the training data."
   ]
  },
  {
   "cell_type": "code",
   "execution_count": 7,
   "metadata": {},
   "outputs": [
    {
     "name": "stdout",
     "output_type": "stream",
     "text": [
      "7820 instances\n",
      "79266 words\n"
     ]
    }
   ],
   "source": [
    "print(len(train_data), 'instances')\n",
    "print(sum([len(sent) for sent in train_data]), \"words\")"
   ]
  },
  {
   "cell_type": "code",
   "execution_count": 8,
   "metadata": {},
   "outputs": [
    {
     "name": "stdout",
     "output_type": "stream",
     "text": [
      "1955 instances\n",
      "20225 words\n"
     ]
    }
   ],
   "source": [
    "print(len(development_data), 'instances')\n",
    "print(sum([len(sent) for sent in development_data]), \"words\")"
   ]
  },
  {
   "cell_type": "markdown",
   "metadata": {},
   "source": [
    "The number of instances in training and development data are 7820 and 1955 respectively and number of words in training and development data are 79266 and 20225 respectively."
   ]
  },
  {
   "cell_type": "code",
   "execution_count": 9,
   "metadata": {},
   "outputs": [],
   "source": [
    "def preProcess(example):\n",
    "    \"\"\"Function takes in list of (word, bio-tag) pairs, e.g.:\n",
    "        [('what', 'O'), ('movies', 'O'), ('star', 'O'), ('bruce', 'B-ACTOR'), ('willis', 'I-ACTOR')]\n",
    "    returns new (token, bio-tag) pairs with preprocessing applied to the words\"\"\"\n",
    "\n",
    "    preprocessed_example = example  # trivial- no preprocessing\n",
    "    return preprocessed_example"
   ]
  },
  {
   "cell_type": "markdown",
   "metadata": {},
   "source": [
    "This is the preprocess function which will have no change for first three questions."
   ]
  },
  {
   "cell_type": "code",
   "execution_count": 10,
   "metadata": {},
   "outputs": [],
   "source": [
    "training_data = [preProcess(example) for example in raw_training_data]"
   ]
  },
  {
   "cell_type": "code",
   "execution_count": 11,
   "metadata": {},
   "outputs": [
    {
     "name": "stdout",
     "output_type": "stream",
     "text": [
      "[('what', 'O'), ('movies', 'O'), ('star', 'O'), ('bruce', 'B-ACTOR'), ('willis', 'I-ACTOR')]\n"
     ]
    }
   ],
   "source": [
    "# check the effect of pre-processing\n",
    "print(training_data[0])"
   ]
  },
  {
   "cell_type": "code",
   "execution_count": 12,
   "metadata": {},
   "outputs": [],
   "source": [
    "_pattern = re.compile(r\"\\d\")  # to recognize numbers/digits\n",
    "\n",
    "# This is the 'out-of-the-box' get_features function from the nltk CRF tagger\n",
    "def get_features(tokens, idx):\n",
    "    \"\"\"\n",
    "    Extract basic features about this word including\n",
    "         - Current Word\n",
    "         - Is Capitalized ?\n",
    "         - Has Punctuation ?\n",
    "         - Has Number ?\n",
    "         - Suffixes up to length 3\n",
    "    Note that : we might include feature over previous word, next word ect.\n",
    "\n",
    "    :return : a list which contains the features\n",
    "    :rtype : list(str)\n",
    "\n",
    "    \"\"\"\n",
    "    token = tokens[idx]\n",
    "    feature_list = []\n",
    "\n",
    "    if not token:\n",
    "        return feature_list\n",
    "\n",
    "    # Capitalization\n",
    "    if token[0].isupper():\n",
    "        feature_list.append(\"CAPITALIZATION\")\n",
    "\n",
    "    # Number\n",
    "    if re.search(_pattern, token) is not None:\n",
    "        feature_list.append(\"HAS_NUM\")\n",
    "\n",
    "    # Punctuation\n",
    "    punc_cat = set([\"Pc\", \"Pd\", \"Ps\", \"Pe\", \"Pi\", \"Pf\", \"Po\"])\n",
    "    if all(unicodedata.category(x) in punc_cat for x in token):\n",
    "        feature_list.append(\"PUNCTUATION\")\n",
    "\n",
    "    # Suffix up to length 3\n",
    "    if len(token) > 1:\n",
    "        feature_list.append(\"SUF_\" + token[-1:])\n",
    "    if len(token) > 2:\n",
    "        feature_list.append(\"SUF_\" + token[-2:])\n",
    "    if len(token) > 3:\n",
    "        feature_list.append(\"SUF_\" + token[-3:])\n",
    "        \n",
    "    feature_list.append(\"WORD_\" + token)\n",
    "    #print(feature_list)\n",
    "    return feature_list"
   ]
  },
  {
   "cell_type": "markdown",
   "metadata": {},
   "source": [
    "This is the get_feature function"
   ]
  },
  {
   "cell_type": "code",
   "execution_count": 13,
   "metadata": {},
   "outputs": [
    {
     "name": "stdout",
     "output_type": "stream",
     "text": [
      "training tagger...\n",
      "done\n"
     ]
    }
   ],
   "source": [
    "# Train the CRF BIO-tag tagger\n",
    "TAGGER_PATH = \"crf_nlu.tagger\"  # path to the tagger- it will save/access the model from here\n",
    "ct = CRFTagger(feature_func=get_features)  # initialize tagger with get_features function\n",
    "\n",
    "print(\"training tagger...\")\n",
    "ct.train(training_data, TAGGER_PATH)\n",
    "print(\"done\")"
   ]
  },
  {
   "cell_type": "markdown",
   "metadata": {},
   "source": [
    "The Bio tagger above is trained with the training data."
   ]
  },
  {
   "cell_type": "code",
   "execution_count": 14,
   "metadata": {},
   "outputs": [
    {
     "name": "stdout",
     "output_type": "stream",
     "text": [
      "2443 instances\n",
      "24686 words\n"
     ]
    }
   ],
   "source": [
    "# load tagger from saved file\n",
    "ct = CRFTagger(feature_func=get_features)  # initialize tagger\n",
    "ct.set_model_file(TAGGER_PATH)  # load model from file\n",
    "\n",
    "# prepare the test data:\n",
    "raw_test_data = get_raw_data_from_bio_file(\"engtest.bio.txt\") \n",
    "test_data = [preProcess(example) for example in raw_test_data]\n",
    "print(len(test_data), \"instances\")\n",
    "print(sum([len(sent) for sent in test_data]), \"words\")"
   ]
  },
  {
   "cell_type": "markdown",
   "metadata": {},
   "source": [
    "Here the tagger is loaded and test data is prepared and is tested in the below cell."
   ]
  },
  {
   "cell_type": "code",
   "execution_count": 15,
   "metadata": {},
   "outputs": [
    {
     "name": "stdout",
     "output_type": "stream",
     "text": [
      "testing tagger...\n",
      "done\n"
     ]
    }
   ],
   "source": [
    "print(\"testing tagger...\")\n",
    "preds = []\n",
    "y_test = []\n",
    "for sent in test_data:\n",
    "    sent_preds = [x[1] for x in ct.tag([s[0] for s in sent])]\n",
    "    sent_true = [s[1] for s in sent]\n",
    "    preds.extend(sent_preds)\n",
    "    y_test.extend(sent_true)\n",
    "print(\"done\")"
   ]
  },
  {
   "cell_type": "code",
   "execution_count": 16,
   "metadata": {},
   "outputs": [
    {
     "name": "stdout",
     "output_type": "stream",
     "text": [
      "                   precision    recall  f1-score   support\n",
      "\n",
      "          B-ACTOR       0.76      0.88      0.81       812\n",
      "      B-CHARACTER       0.72      0.26      0.38        90\n",
      "       B-DIRECTOR       0.77      0.61      0.68       456\n",
      "          B-GENRE       0.91      0.95      0.93      1117\n",
      "           B-PLOT       0.60      0.40      0.48       491\n",
      "         B-RATING       0.98      0.97      0.97       500\n",
      "B-RATINGS_AVERAGE       0.87      0.82      0.84       451\n",
      "         B-REVIEW       0.14      0.02      0.03        56\n",
      "           B-SONG       0.69      0.17      0.27        54\n",
      "          B-TITLE       0.58      0.50      0.54       562\n",
      "        B-TRAILER       0.80      0.80      0.80        30\n",
      "           B-YEAR       0.94      0.94      0.94       720\n",
      "          I-ACTOR       0.75      0.89      0.81       862\n",
      "      I-CHARACTER       0.76      0.29      0.42        75\n",
      "       I-DIRECTOR       0.78      0.60      0.68       496\n",
      "          I-GENRE       0.84      0.71      0.77       222\n",
      "           I-PLOT       0.49      0.32      0.39       496\n",
      "         I-RATING       0.98      0.87      0.92       226\n",
      "I-RATINGS_AVERAGE       0.81      0.87      0.84       403\n",
      "         I-REVIEW       0.00      0.00      0.00        45\n",
      "           I-SONG       0.65      0.22      0.33       119\n",
      "          I-TITLE       0.58      0.69      0.63       856\n",
      "        I-TRAILER       0.00      0.00      0.00         8\n",
      "           I-YEAR       0.96      0.97      0.96       610\n",
      "                O       0.93      0.96      0.95     14929\n",
      "\n",
      "         accuracy                           0.88     24686\n",
      "        macro avg       0.69      0.59      0.62     24686\n",
      "     weighted avg       0.87      0.88      0.87     24686\n",
      "\n"
     ]
    },
    {
     "name": "stderr",
     "output_type": "stream",
     "text": [
      "c:\\users\\rohit\\appdata\\local\\programs\\python\\python37\\lib\\site-packages\\sklearn\\metrics\\_classification.py:1221: UndefinedMetricWarning: Precision and F-score are ill-defined and being set to 0.0 in labels with no predicted samples. Use `zero_division` parameter to control this behavior.\n",
      "  _warn_prf(average, modifier, msg_start, len(result))\n"
     ]
    }
   ],
   "source": [
    "# Output the classification report (which you should save each time for comparing your models)\n",
    "print(classification_report(y_test, preds))"
   ]
  },
  {
   "cell_type": "markdown",
   "metadata": {},
   "source": [
    "This is the classification report of the test data with macro avg precision of 0.67"
   ]
  },
  {
   "cell_type": "code",
   "execution_count": 17,
   "metadata": {},
   "outputs": [],
   "source": [
    "def confusion_matrix_heatmap(y_test, preds):\n",
    "    \"\"\"Function to plot a confusion matrix\"\"\"\n",
    "    labels = list(set(y_test))   # get the labels in the y_test\n",
    "    # print(labels)\n",
    "    cm = confusion_matrix(y_test, preds, labels)\n",
    "    fig = plt.figure(figsize=(20,20))\n",
    "    ax = fig.add_subplot(111)\n",
    "    cax = ax.matshow(cm)\n",
    "    plt.title('Confusion matrix of the classifier')\n",
    "    fig.colorbar(cax)\n",
    "    ax.set_xticks(np.arange(len(labels)))\n",
    "    ax.set_yticks(np.arange(len(labels)))\n",
    "    ax.set_xticklabels( labels, rotation=45)\n",
    "    ax.set_yticklabels( labels)\n",
    "\n",
    "    for i in range(len(cm)):\n",
    "        for j in range(len(cm)):\n",
    "            text = ax.text(j, i, cm[i, j],\n",
    "                           ha=\"center\", va=\"center\", color=\"w\")\n",
    "\n",
    "    plt.xlabel('Predicted')\n",
    "    plt.ylabel('True')\n",
    "    #fig.tight_layout()\n",
    "    plt.show()"
   ]
  },
  {
   "cell_type": "markdown",
   "metadata": {},
   "source": [
    "This is a function of confusion_matrix_heatmap to plot the confusion matrix."
   ]
  },
  {
   "cell_type": "code",
   "execution_count": 18,
   "metadata": {},
   "outputs": [
    {
     "name": "stderr",
     "output_type": "stream",
     "text": [
      "c:\\users\\rohit\\appdata\\local\\programs\\python\\python37\\lib\\site-packages\\sklearn\\utils\\validation.py:70: FutureWarning: Pass labels=['B-REVIEW', 'I-YEAR', 'I-RATING', 'I-TITLE', 'B-DIRECTOR', 'B-RATING', 'I-GENRE', 'I-RATINGS_AVERAGE', 'I-REVIEW', 'B-GENRE', 'B-PLOT', 'B-CHARACTER', 'I-PLOT', 'B-ACTOR', 'O', 'I-SONG', 'B-TRAILER', 'B-TITLE', 'I-CHARACTER', 'I-TRAILER', 'B-RATINGS_AVERAGE', 'B-YEAR', 'B-SONG', 'I-ACTOR', 'I-DIRECTOR'] as keyword args. From version 0.25 passing these as positional arguments will result in an error\n",
      "  FutureWarning)\n"
     ]
    },
    {
     "data": {
      "image/png": "[encoded data removed]",
      "text/plain": [
       "<Figure size 1440x1440 with 2 Axes>"
      ]
     },
     "metadata": {
      "needs_background": "light"
     },
     "output_type": "display_data"
    }
   ],
   "source": [
    "confusion_matrix_heatmap(y_test, preds)"
   ]
  },
  {
   "cell_type": "markdown",
   "metadata": {},
   "source": [
    "# 1. Split the training data into 80% training, 20% development set (5 marks)\n",
    "Split the training data (`training_data`) into two lists: one split of the first 80% of the instances of `training_data`, which you will use for training your CRF, and the remaining 20% for testing. Once you've done this re-run the above code such that the tagger is trained on the 80% split and tested on the 20% split, and you obtain the classification report output and confusion heatmap output for the results of testing. Do not use the test data as it is above for testing/viewing results for now. Record the results by saving the classification report output as a string somewhere in the notebook for future reference as you go through.\n"
   ]
  },
  {
   "cell_type": "markdown",
   "metadata": {},
   "source": [
    "# 2. Error analysis 1: False positives (10 marks)\n",
    "\n",
    "Performing error analyses is a key part of improving your NLP applications. For the 5 classes which have the lowest precision, according to the results table from your 20% development data, print out all the sentences where there is a false positive for that class (i.e. the label is predicted in the predicted label for a given word by the tagger, but this is not present in the corresponding ground truth label for that word). HINT: This may most easily be achieved by editing the code above beginning `print(\"testing tagger...\")` and ending `print(\"done\")`. Have a look at these errors closely, and think about which features could be added to reduce the number of these errors.\n"
   ]
  },
  {
   "cell_type": "code",
   "execution_count": 19,
   "metadata": {},
   "outputs": [],
   "source": [
    "train_data1 = [preProcess(example) for example in train_data]"
   ]
  },
  {
   "cell_type": "code",
   "execution_count": 20,
   "metadata": {},
   "outputs": [
    {
     "name": "stdout",
     "output_type": "stream",
     "text": [
      "training tagger...\n",
      "done\n"
     ]
    }
   ],
   "source": [
    "# Train the CRF BIO-tag tagger\n",
    "TAGGER_PATH = \"crf_nlu_develop.tagger\"  # path to the tagger- it will save/access the model from here\n",
    "ct = CRFTagger(feature_func=get_features)  # initialize tagger with get_features function\n",
    "\n",
    "print(\"training tagger...\")\n",
    "ct.train(train_data1, TAGGER_PATH)\n",
    "print(\"done\")"
   ]
  },
  {
   "cell_type": "markdown",
   "metadata": {},
   "source": [
    "Here we have changed the tagger file for the 2nd Question and the tagger is trained on the training data."
   ]
  },
  {
   "cell_type": "code",
   "execution_count": 21,
   "metadata": {},
   "outputs": [],
   "source": [
    "development_data1 = [preProcess(example) for example in development_data]"
   ]
  },
  {
   "cell_type": "code",
   "execution_count": 22,
   "metadata": {},
   "outputs": [
    {
     "name": "stdout",
     "output_type": "stream",
     "text": [
      "testing tagger...\n",
      "done\n"
     ]
    }
   ],
   "source": [
    "print(\"testing tagger...\")\n",
    "preds1 = []\n",
    "y_test1 = []\n",
    "for sent in development_data1:\n",
    "    sent_preds = [x[1] for x in ct.tag([s[0] for s in sent])]\n",
    "    sent_true = [s[1] for s in sent]\n",
    "    preds1.extend(sent_preds)\n",
    "    y_test1.extend(sent_true)\n",
    "print(\"done\")"
   ]
  },
  {
   "cell_type": "markdown",
   "metadata": {},
   "source": [
    "Here we have tested the tagger on the preprocessed development data."
   ]
  },
  {
   "cell_type": "code",
   "execution_count": 23,
   "metadata": {},
   "outputs": [
    {
     "name": "stdout",
     "output_type": "stream",
     "text": [
      "                   precision    recall  f1-score   support\n",
      "\n",
      "          B-ACTOR       0.65      0.87      0.74       433\n",
      "      B-CHARACTER       0.70      0.32      0.44        44\n",
      "       B-DIRECTOR       0.76      0.63      0.69       365\n",
      "          B-GENRE       0.96      0.97      0.97       927\n",
      "           B-PLOT       0.48      0.43      0.45       298\n",
      "         B-RATING       1.00      1.00      1.00       430\n",
      "B-RATINGS_AVERAGE       0.88      0.88      0.88       451\n",
      "         B-REVIEW       0.00      0.00      0.00        31\n",
      "           B-SONG       0.50      0.25      0.33        20\n",
      "          B-TITLE       0.66      0.35      0.46       679\n",
      "        B-TRAILER       1.00      0.50      0.67        28\n",
      "           B-YEAR       0.89      1.00      0.94       535\n",
      "          I-ACTOR       0.66      0.85      0.74       482\n",
      "      I-CHARACTER       0.58      0.60      0.59        47\n",
      "       I-DIRECTOR       0.76      0.62      0.69       410\n",
      "          I-GENRE       0.90      1.00      0.95       123\n",
      "           I-PLOT       0.28      0.64      0.39       148\n",
      "         I-RATING       0.98      1.00      0.99       156\n",
      "I-RATINGS_AVERAGE       0.76      0.94      0.84       408\n",
      "         I-REVIEW       0.00      0.00      0.00         9\n",
      "           I-SONG       0.29      0.23      0.26        43\n",
      "          I-TITLE       0.75      0.48      0.58      1182\n",
      "        I-TRAILER       0.00      0.00      0.00         1\n",
      "           I-YEAR       0.95      1.00      0.98       528\n",
      "                O       0.94      0.96      0.95     12447\n",
      "\n",
      "         accuracy                           0.88     20225\n",
      "        macro avg       0.65      0.62      0.62     20225\n",
      "     weighted avg       0.88      0.88      0.87     20225\n",
      "\n"
     ]
    }
   ],
   "source": [
    "print(classification_report(y_test1, preds1))"
   ]
  },
  {
   "cell_type": "markdown",
   "metadata": {},
   "source": [
    "This is the classification report of the development data and from here we have to select the the lowest five precision of the classes which are B-REVIEW, I-REVIEW, I-TRAILER, I-PLOT, I-SONG. And for third Question we have to select the lowest five recall classes which are B-REVIEW, I-REVIEW, I-TRAILER, B-SONG, I-SONG."
   ]
  },
  {
   "cell_type": "code",
   "execution_count": 24,
   "metadata": {},
   "outputs": [
    {
     "name": "stdout",
     "output_type": "stream",
     "text": [
      "testing tagger...\n",
      "what genre is the movie my date with the presidents daughter \n",
      "what is becoming jesse tate \n",
      "what is forbidden love about \n",
      "what is internal affairs \n",
      "what is such hawks such hounds about \n",
      "what is trading places \n",
      "what is a pg 13 rated drama movie made in the 1990 s that concerns health issues \n",
      "what is a excellent rated 1970 s drama involving mental abilities \n",
      "what is a family movie with actor bobbie phillips \n",
      "what is a funny high school movie that is well rated \n",
      "what is a good movie based on war involving war crimes \n",
      "what is a good romantic drama i can take my wife to see \n",
      "what is a movie about a party whose ratings averaged about a nine \n",
      "what is a movie in the past nine decades about a journey with jonathan taylor thomas that includes jokes \n",
      "what is a movie where nicholas lea plays a lieutenant general \n",
      "what is a nine star rated movie that is rated nc 17 and involves drugs \n",
      "what is a rated r documentary directed by thomas l phillips \n",
      "what is a rated r movie directed by c b harding regarding a small town \n",
      "what is a watchable nc 17 romantic drama on everlasting love with peter care that came out in the past four years \n",
      "what is a 1960 s four star r movie about a teddy bear with jason robert stephens \n",
      "what is an nc 17 movie about jewish politics \n",
      "what is expected to be the best action movie of the year \n",
      "what is the best action movie from the last nine decades staring mark harmon with a pg 13 rating \n",
      "what is the best action movie of the 1990 s \n",
      "what is the best action movie that denzel washington is in \n",
      "what is the best action movie this year \n",
      "what is the best child movie by kelly overton that was made in the past decade \n",
      "what is the best comedy of the 1970 s \n",
      "what is the best comedy that came out in 2011 \n",
      "what is the best crime movie from 2010 \n",
      "what is the best drama that robert redford was ever in \n",
      "what is the best drama that came out in the 2000 s \n",
      "what is the best fantasy movie of all time \n",
      "what is the best military movie of all time \n",
      "what is the best psychological drama that was made in the 1950 s \n",
      "what is the best romantic comedy that came out in 2011 \n",
      "what is the best sci fi film of 1950 \n",
      "what is the best sci fi movie of the 2010 s \n",
      "what is the best science fiction movie directed by george lucas \n",
      "what is the best science fiction movie that orson welles has directed \n",
      "what is the best science fiction movie that was made in the 1950 s \n",
      "what is the best thriller movie of all time \n",
      "what is the best war film that was made in the 1950 s \n",
      "what is the best war movie ever \n",
      "what is the film the courtship of eddies father about \n",
      "what is the funniest comedy of all time \n",
      "what is the last horror movie that won an oscar \n",
      "what is the last mystery movie that won an oscar \n",
      "what is the movie the edge of love about \n",
      "what is the movie a wonderful world \n",
      "what is the movie death warrior about \n",
      "what is the movie dumping lisa about \n",
      "what is the movie gekijouban fate stay night unlimited blade works about \n",
      "what is the movie on her majestys secret service about \n",
      "what is the movie waking life about \n",
      "what is the name of the r rated romance movie directed by jerry schatzberg about a best friend \n",
      "what is the plot in the movie princess of thieves \n",
      "what is the plot of city of life and death \n",
      "what is the plot of the movie posse cat \n",
      "what is the rating for august undergrounds penance \n",
      "what is the top ten favorite war films of all time \n",
      "what is the unrated watchable movie that has drew carey in it which involves a missing prisoner \n",
      "what kind of movie is true stories \n",
      "what movie in the 1990 s was based on a famous death camp \n",
      "what movie studio produced digital monster x evolution \n",
      "what movie won the best animation oscar in 1990 \n",
      "what movies starring antonio banderas have reputations as having been received well by the viewing audiences \n",
      "what movies won the academy award for best animation in the last decade \n",
      "what popular work has kenny hartfield done \n",
      "what really good r rated crime films of the last seven decades had plots about criminals \n",
      "what spaghetti western about treasure was directed by donal mosher \n",
      "what war movie released in 2000 was directed by carl t evans \n",
      "what was the best animation film in 2010 \n",
      "what was the best comedy movie for 2011 \n",
      "what was the best crime film directed by federico fellini \n",
      "what was the best mystery movie of all time \n",
      "what was the best western that charlton heston was in \n",
      "what was the last science fiction movie that won an oscar \n",
      "what were the best horror movies of the 2000 s \n",
      "what would be the best short movie to watch starring rene russo that was made in the last six years \n",
      "what year did dragons or dinosaurs creation or evolution come out \n",
      "what year was lost city raiders released on dvd \n",
      "whats the best western that is rated pg 13 from the 2000 s staring gregory peck that received two thumbs up \n",
      "whats the best family movie of the past decade thats is rated at least a four \n",
      "when did overnight delivery come out \n",
      "when did the king of new york come out \n",
      "when is so proudly we hail released \n",
      "where are some reviews for better off dead \n",
      "where can i find billion dollar brain \n",
      "where can i find a cast list for a bittersweet life \n",
      "where can i find the movie cool world \n",
      "where can i find the movie dumping lisa \n",
      "where can i get the movie evil ed \n",
      "where can i purchase the movie little monsters online \n",
      "where is the big bounce showing tonight \n",
      "where is there a review of what happens in vegas available \n",
      "where might i find the movie after hours \n",
      "who directed a very merry daughter of the bridge \n",
      "who directed black book \n",
      "who directed fear of a black hat \n",
      "who directed lets fish \n",
      "who directed lornas silence \n",
      "who directed orange county \n",
      "who directed primal rage \n",
      "who directed sweet sweetbacks baadasssss song \n",
      "who directed the secret life of bees \n",
      "who directed the sweetest thing \n",
      "who directed a movie within the past ten years about alien intrusion starring dale midkiff \n",
      "who is in the movie lets fish \n",
      "who is starring in expedition great white \n",
      "who is stars in the movie invaders from mars \n",
      "who is the best drama director these days \n",
      "who plays tommy in the rugrats go wild \n",
      "who starred in all my friends are funeral singers \n",
      "who starred in almost dead \n",
      "who starred in gullivers travels \n",
      "who starred in sorority babes in the dance a thon of death \n",
      "who starred in the movie blue chips \n",
      "who stars in blood into wine \n",
      "who stars in cemetery junction \n",
      "who stars in chains of gold \n",
      "who stars in everybody wants to be italian \n",
      "who stars in hail the conquering hero \n",
      "who was the lead in escape to witch mountain \n",
      "who wrote the screenplay for metal gear solid \n",
      "would you be able to direct me to where i might find the movie priest \n",
      "name a pg 13 western with someone getting thrown from a train \n",
      "what is a very popular r rated documentary with geraint wyne davies \n",
      "what is the best drama ever directed by ingmar bergman \n",
      "what was the best horror movie last year \n",
      "what was the best thriller of the 1950 s \n",
      "whats the best romantic comedy \n",
      "whats the best western \n",
      "i would like to see the movie review for the movie kiss me kate \n",
      "do you know whether a hard day s night is any good \n",
      "can you show me a trailer for kiss me kate \n",
      "please give me a glimpse of that movie kiss me kate \n",
      "please show me a clip from kiss me kate \n",
      "can you please show me the extended movie trailer of kiss me kate \n",
      "i want to see the trailer of the movie kiss me kate \n",
      "show me some interesting clips from a hard day s night \n",
      "please show me a website with clips of a hard day s night \n",
      "can you show me short snippets from a hard day s night \n",
      "show me the trailer for that hard day s night movie that just came out \n",
      "could you show some scenes without spoilers \n",
      "which movie released in the 1960 s had the my favorite things song in its soundtrack \n",
      "which movie in the 1960 s had my favorite things as the soundtrack for one of the well known movie scenes \n",
      "i want the name of the movie which had this song my favourite things probably released between 1960 1969 \n",
      "the lost weekend \n",
      "north by northwest \n",
      "the french connection \n",
      "the magnificent ambersons \n",
      "kiss me deadly \n",
      "my darling clementine \n",
      "my fair lady \n",
      "the lion king \n",
      "it s a wonderful life \n",
      "closely watched trains \n",
      "an american in paris \n",
      "white heat \n",
      "the grapes of wrath \n",
      "done\n"
     ]
    }
   ],
   "source": [
    "print(\"testing tagger...\")\n",
    "preds2 = []\n",
    "y_test2 = []\n",
    "SENT = []\n",
    "low5_labels= ['I-TRAILER', 'I-REVIEW', 'B-REVIEW', 'I-PLOT', 'I-SONG']\n",
    "for sent in development_data1:\n",
    "    sent_preds = [x[1] for x in ct.tag([s[0] for s in sent])]\n",
    "    sent_true = [s[1] for s in sent]\n",
    "    preds2.extend(sent_preds)\n",
    "    y_test2.extend(sent_true)\n",
    "    for labels in low5_labels:\n",
    "        for i in range(len(sent_preds)):\n",
    "            if sent_preds[i] == labels and sent_preds[i] != sent_true[i]:\n",
    "                s = ''\n",
    "                for j in sent:\n",
    "                    s = s+ j[0] + ' '\n",
    "                if s not in SENT:\n",
    "                    SENT.append(s)\n",
    "                    print(s)\n",
    "print(\"done\")"
   ]
  },
  {
   "cell_type": "markdown",
   "metadata": {},
   "source": [
    "Here we have passed five labels with lowest precisions in the list low5_labels. Then we have test the tagger on the development set and passed the False Negatives of the five selected class. For that used for loops. \n",
    "\n",
    "First For loop is for sentences in development_data and Second For loop is for labels in the low5_labels list and third loop is in the range of length of the sent_preds after that we have added the space between the words and then we have appended it to the SENT list and then we have printed that.\n",
    "The above sentences are the False Positives in the 5 classes with lowest precision."
   ]
  },
  {
   "cell_type": "markdown",
   "metadata": {},
   "source": [
    "# 3. Error analysis 2: False negatives (10 marks)\n",
    "\n",
    "For the 5 classes which have the lowest recall, according to the results table from your 20% development data,, print out all the sentences where there is a false negative for that label (i.e. the label is present in the ground truth label for a given word, but that label is not predicted for that word by the tagger). HINT: This may most easily be achieved by editing the code above beginning `print(\"testing tagger...\")` and ending `print(\"done\")`. Have a look at these errors closely, and think about which features could be added to reduce the number of these errors.\n"
   ]
  },
  {
   "cell_type": "code",
   "execution_count": 25,
   "metadata": {},
   "outputs": [
    {
     "name": "stdout",
     "output_type": "stream",
     "text": [
      "testing tagger...\n",
      "what is expected to be the best action movie of the year \n",
      "what is the best action movie from the last nine decades staring mark harmon with a pg 13 rating \n",
      "what is the best action movie of the 1990 s \n",
      "what is the best action movie that denzel washington is in \n",
      "what is the best action movie this year \n",
      "what is the best child movie by kelly overton that was made in the past decade \n",
      "what is the best comedy of the 1970 s \n",
      "what is the best comedy that came out in 2011 \n",
      "what is the best crime movie from 2010 \n",
      "what is the best drama that robert redford was ever in \n",
      "what is the best drama that came out in the 2000 s \n",
      "what is the best fantasy movie of all time \n",
      "what is the best military movie of all time \n",
      "what is the best psychological drama that was made in the 1950 s \n",
      "what is the best romantic comedy that came out in 2011 \n",
      "what is the best sci fi film of 1950 \n",
      "what is the best sci fi movie of the 2010 s \n",
      "what is the best science fiction movie directed by george lucas \n",
      "what is the best science fiction movie that orson welles has directed \n",
      "what is the best science fiction movie that was made in the 1950 s \n",
      "what is the best thriller movie of all time \n",
      "what is the best war film that was made in the 1950 s \n",
      "what is the best war movie ever \n",
      "what is the funniest comedy of all time \n",
      "what is the last horror movie that won an oscar \n",
      "what is the last mystery movie that won an oscar \n",
      "what is the name of the r rated romance movie directed by jerry schatzberg about a best friend \n",
      "what movie won the best animation oscar in 1990 \n",
      "what movies won the academy award for best animation in the last decade \n",
      "what was the best animation film in 2010 \n",
      "what was the best comedy movie for 2011 \n",
      "what was the best crime film directed by federico fellini \n",
      "what was the best mystery movie of all time \n",
      "what was the best western that charlton heston was in \n",
      "what was the last science fiction movie that won an oscar \n",
      "what were the best horror movies of the 2000 s \n",
      "what would be the best short movie to watch starring rene russo that was made in the last six years \n",
      "whats the best western that is rated pg 13 from the 2000 s staring gregory peck that received two thumbs up \n",
      "whats the best family movie of the past decade thats is rated at least a four \n",
      "who directed sweet sweetbacks baadasssss song \n",
      "who directed the sweetest thing \n",
      "who is the best drama director these days \n",
      "would you be able to direct me to where i might find the movie priest \n",
      "what is the best drama ever directed by ingmar bergman \n",
      "what was the best horror movie last year \n",
      "what was the best thriller of the 1950 s \n",
      "whats the best romantic comedy \n",
      "whats the best western \n",
      "which movie released in the 1960 s had the my favorite things song in its soundtrack \n",
      "which movie in the 1960 s had my favorite things as the soundtrack for one of the well known movie scenes \n",
      "i want the name of the movie which had this song my favourite things probably released between 1960 1969 \n",
      "do you know of any movie that had come what may in its soundtrack \n",
      "do you know any movies that have the song come what may in its soundtrack \n",
      "what movie starred judy garland that had over the rainbow in its soundtrack \n",
      "north by northwest \n",
      "kiss me deadly \n",
      "my fair lady \n",
      "done\n"
     ]
    }
   ],
   "source": [
    "print(\"testing tagger...\")\n",
    "preds22 = []\n",
    "y_test22 = []\n",
    "SENT = []\n",
    "low5_labels= ['I-TRAILER', 'I-REVIEW', 'B-REVIEW', 'I-SONG', 'B-SONG']\n",
    "for sent in development_data1:\n",
    "    sent_preds = [x[1] for x in ct.tag([s[0] for s in sent])]\n",
    "    sent_true = [s[1] for s in sent]\n",
    "    preds22.extend(sent_preds)\n",
    "    y_test22.extend(sent_true)\n",
    "    for labels in low5_labels:\n",
    "        for i in range(len(sent_preds)):\n",
    "            if sent_preds[i] == labels and sent_preds[i] != sent_true[i]:\n",
    "                s = ''\n",
    "                for j in sent:\n",
    "                    s = s+ j[0] + ' '\n",
    "                if s not in SENT:\n",
    "                    SENT.append(s)\n",
    "                    print(s)\n",
    "print(\"done\")"
   ]
  },
  {
   "cell_type": "markdown",
   "metadata": {},
   "source": [
    "Here I have again selected 5 classes with lowest recall and passed the for loops again and checked with the if condition that it satisfies  the condition of false negatives.\n",
    "\n",
    "The above sentences are the False negatives of the 5 classes with lowest recalls."
   ]
  },
  {
   "cell_type": "markdown",
   "metadata": {},
   "source": [
    "# 4. Using POS tags as features (15 marks)\n",
    "Use the CRF part-of-speech (POS) tagger as shown below to add POS tags to the words in the training data. Do this by altering the `preProcess` function above. Note the CRF tagger only takes strings as input so you will have to concatenate the word and POS tag together (with a special symbol, e.g. @), and you will also have to then split on this special symbol in the feature extraction function `get_features` to get the word and POS tag - modify that function so it uses the POS tag in addition to the word (currently using the word only is achieved by `feature_list.append(\"WORD_\" + token)`. Re-run the training and testing code on your 80%/20% training/dev split from question 1 and record the results from the classification report as text in this file for comparison of the accuracy metrics against not using POS tags- try to see any improvemements across the classes."
   ]
  },
  {
   "cell_type": "code",
   "execution_count": 26,
   "metadata": {},
   "outputs": [
    {
     "name": "stdout",
     "output_type": "stream",
     "text": [
      "[('john', 'NNP'), ('likes', 'VBZ'), ('mary', 'JJ'), ('and', 'CC'), ('bill', 'NN')]\n"
     ]
    }
   ],
   "source": [
    "# a postagger for use in exercises\n",
    "posttagger = CRFTagger()\n",
    "posttagger.set_model_file(\"crf_pos.tagger\")\n",
    "# example use:\n",
    "words = [\"john\", \"likes\", \"mary\", \"and\", \"bill\"]\n",
    "print(posttagger.tag(words))"
   ]
  },
  {
   "cell_type": "markdown",
   "metadata": {},
   "source": [
    "# 5. Feature experimentation for optimal macro average (20 marks).\n",
    "Experiment with different features by further adjusting the `get_features` function, and modifying it to get the best results in terms of `macro average f-score` (i.e. average f-score across all classes) on your 20% development data. Iteratively try different functions, briefly describe the method and record the results in the classification report format. You could try more suffixes/prefixes of the curret word than those currently extracted, you could use windows of the next and previous tokens (of different sizes, e.g. the previous/next N words/tags). As you try different feature functions, use the techniques you used in Q1 and Q2 to see the kind of errors you are getting for lower performing classes, in addition to the confusion matrix over classes. Leave the `get_features` functions in the state you used to get the highest `macro average f-score` on your 20% development set, then re-train the model on ALL the training data and print the classification report for the original test data (i.e. from the test file `engtest.bio.txt`) as your final piece of code."
   ]
  },
  {
   "cell_type": "code",
   "execution_count": null,
   "metadata": {},
   "outputs": [],
   "source": []
  }
 ],
 "metadata": {
  "kernelspec": {
   "display_name": "Python 3",
   "language": "python",
   "name": "python3"
  },
  "language_info": {
   "codemirror_mode": {
    "name": "ipython",
    "version": 3
   },
   "file_extension": ".py",
   "mimetype": "text/x-python",
   "name": "python",
   "nbconvert_exporter": "python",
   "pygments_lexer": "ipython3",
   "version": "3.7.9"
  }
 },
 "nbformat": 4,
 "nbformat_minor": 2
}
